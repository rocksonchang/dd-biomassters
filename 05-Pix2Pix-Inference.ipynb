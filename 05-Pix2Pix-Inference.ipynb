{
 "cells": [
  {
   "cell_type": "markdown",
   "metadata": {},
   "source": [
    "# 05 - Pix2Pix Inference"
   ]
  },
  {
   "cell_type": "code",
   "execution_count": 2,
   "metadata": {},
   "outputs": [
    {
     "name": "stderr",
     "output_type": "stream",
     "text": [
      "/Users/loaner/.pyenv/versions/3.8.15/lib/python3.8/site-packages/tqdm/auto.py:22: TqdmWarning: IProgress not found. Please update jupyter and ipywidgets. See https://ipywidgets.readthedocs.io/en/stable/user_install.html\n",
      "  from .autonotebook import tqdm as notebook_tqdm\n"
     ]
    },
    {
     "data": {
      "text/html": [
       "<style>.container { width:90% !important; }</style>"
      ],
      "text/plain": [
       "<IPython.core.display.HTML object>"
      ]
     },
     "metadata": {},
     "output_type": "display_data"
    }
   ],
   "source": [
    "%matplotlib inline\n",
    "import matplotlib.pyplot as plt\n",
    "\n",
    "# from botocore.exceptions import ClientError\n",
    "# import boto3\n",
    "# import calendar\n",
    "# import io\n",
    "# from itertools import product\n",
    "# import numpy as np\n",
    "import os\n",
    "import pandas as pd\n",
    "# import random\n",
    "# import tifffile as tif\n",
    "# from tqdm import tqdm\n",
    "\n",
    "import torch\n",
    "import torch.nn as nn\n",
    "# from torch.utils.data import Dataset, DataLoader\n",
    "# from torchvision import transforms\n",
    "\n",
    "# from models.pix2pix_model import Pix2PixModel\n",
    "\n",
    "from IPython.display import display, HTML\n",
    "display(HTML(\"<style>.container { width:90% !important; }</style>\"))"
   ]
  },
  {
   "cell_type": "markdown",
   "metadata": {},
   "source": [
    "## Create train, validation, test splits"
   ]
  },
  {
   "cell_type": "raw",
   "metadata": {},
   "source": [
    "from sklearn.model_selection import train_test_split\n",
    "RANDOM_STATE=42"
   ]
  },
  {
   "cell_type": "raw",
   "metadata": {},
   "source": [
    "df_metadata = pd.read_csv(\"data/metadata/features_metadata.csv\",index_col=0)\n",
    "all_chips = list(df_metadata.chip_id.unique())\n",
    "train_chips = list(df_metadata[df_metadata.split=='train'].chip_id.unique())\n",
    "test_chips = list(df_metadata[df_metadata.split=='test'].chip_id.unique())\n",
    "\n",
    "df_metadata_train = df_metadata[df_metadata.split=='train'].chip_id \\\n",
    "    .drop_duplicates().reset_index(drop=True).to_frame()\n",
    "\n",
    "X_train, X_validation = train_test_split(df_metadata_train, test_size=0.33, random_state=RANDOM_STATE)\n",
    "df_metadata.loc[df_metadata.chip_id.isin(X_validation.chip_id), 'split'] = 'validation'\n",
    "df_metadata.to_csv(f\"data/metadata/features_metadata_split_{RANDOM_STATE}.csv\")"
   ]
  },
  {
   "cell_type": "raw",
   "metadata": {
    "scrolled": true
   },
   "source": [
    "df=pd.read_csv(f\"data/metadata/features_metadata_split_{RANDOM_STATE}.csv\", index_col=0)\n",
    "df.split.value_counts()"
   ]
  },
  {
   "cell_type": "markdown",
   "metadata": {},
   "source": [
    "## Download train data to local"
   ]
  },
  {
   "cell_type": "code",
   "execution_count": 20,
   "metadata": {},
   "outputs": [
    {
     "name": "stdout",
     "output_type": "stream",
     "text": [
      "/Users/loaner/projects/dd-biomassters/pix2pix\n"
     ]
    }
   ],
   "source": [
    "%cd /Users/loaner/projects/dd-biomassters/pix2pix\n",
    "from data.biomassters_dataset import BioMasstersDataset\n",
    "from torch.utils.data import DataLoader\n",
    "from tqdm import tqdm\n",
    "\n",
    "class Options():\n",
    "    def __init__(self, phase='train', max_dataset_size=100): \n",
    "        self.dataroot = '../data'\n",
    "        self.phase = phase\n",
    "        self.max_dataset_size = max_dataset_size"
   ]
  },
  {
   "cell_type": "code",
   "execution_count": 21,
   "metadata": {},
   "outputs": [],
   "source": [
    "opt = Options()\n",
    "bm = BioMasstersDataset(opt)\n",
    "dataloader = DataLoader(bm, batch_size=1)"
   ]
  },
  {
   "cell_type": "code",
   "execution_count": 25,
   "metadata": {
    "scrolled": true
   },
   "outputs": [
    {
     "name": "stdout",
     "output_type": "stream",
     "text": [
      "0 ['1a1f591d'] torch.Size([1, 180, 256, 256]) torch.Size([1, 1, 256, 256])\n",
      "1 ['5521a4ea'] torch.Size([1, 180, 256, 256]) torch.Size([1, 1, 256, 256])\n",
      "2 ['b910d1a7'] torch.Size([1, 180, 256, 256]) torch.Size([1, 1, 256, 256])\n",
      "3 ['eee3ce3a'] torch.Size([1, 180, 256, 256]) torch.Size([1, 1, 256, 256])\n",
      "4 ['49abd286'] torch.Size([1, 180, 256, 256]) torch.Size([1, 1, 256, 256])\n",
      "5 ['187cf18b'] torch.Size([1, 180, 256, 256]) torch.Size([1, 1, 256, 256])\n",
      "6 ['243bad58'] torch.Size([1, 180, 256, 256]) torch.Size([1, 1, 256, 256])\n",
      "7 ['8baffdbd'] torch.Size([1, 180, 256, 256]) torch.Size([1, 1, 256, 256])\n",
      "8 ['138bc232'] torch.Size([1, 180, 256, 256]) torch.Size([1, 1, 256, 256])\n",
      "9 ['2003e1cb'] torch.Size([1, 180, 256, 256]) torch.Size([1, 1, 256, 256])\n",
      "10 ['10cddd46'] torch.Size([1, 180, 256, 256]) torch.Size([1, 1, 256, 256])\n",
      "11 ['31c77f10'] torch.Size([1, 180, 256, 256]) torch.Size([1, 1, 256, 256])\n",
      "12 ['5f5e708d'] torch.Size([1, 180, 256, 256]) torch.Size([1, 1, 256, 256])\n",
      "13 ['9d73fff0'] torch.Size([1, 180, 256, 256]) torch.Size([1, 1, 256, 256])\n",
      "14 ['07765e15'] torch.Size([1, 180, 256, 256]) torch.Size([1, 1, 256, 256])\n",
      "15 ['6dae4dd6'] torch.Size([1, 180, 256, 256]) torch.Size([1, 1, 256, 256])\n",
      "16 ['9d67ba2e'] torch.Size([1, 180, 256, 256]) torch.Size([1, 1, 256, 256])\n",
      "17 ['0964800b'] torch.Size([1, 180, 256, 256]) torch.Size([1, 1, 256, 256])\n",
      "18 ['b4656b97'] torch.Size([1, 180, 256, 256]) torch.Size([1, 1, 256, 256])\n",
      "19 ['81d8de14'] torch.Size([1, 180, 256, 256]) torch.Size([1, 1, 256, 256])\n",
      "20 ['a8ca3a71'] torch.Size([1, 180, 256, 256]) torch.Size([1, 1, 256, 256])\n",
      "21 ['7178cc89'] torch.Size([1, 180, 256, 256]) torch.Size([1, 1, 256, 256])\n",
      "22 ['7d11f2dd'] torch.Size([1, 180, 256, 256]) torch.Size([1, 1, 256, 256])\n",
      "23 ['d1ee88dd'] torch.Size([1, 180, 256, 256]) torch.Size([1, 1, 256, 256])\n",
      "24 ['63ada952'] torch.Size([1, 180, 256, 256]) torch.Size([1, 1, 256, 256])\n",
      "25 ['e6d173c7'] torch.Size([1, 180, 256, 256]) torch.Size([1, 1, 256, 256])\n",
      "26 ['26622ebc'] torch.Size([1, 180, 256, 256]) torch.Size([1, 1, 256, 256])\n",
      "27 ['7f487274'] torch.Size([1, 180, 256, 256]) torch.Size([1, 1, 256, 256])\n",
      "28 ['cce5812b'] torch.Size([1, 180, 256, 256]) torch.Size([1, 1, 256, 256])\n",
      "29 ['f5d88b97'] torch.Size([1, 180, 256, 256]) torch.Size([1, 1, 256, 256])\n",
      "30 ['ee3be0be'] torch.Size([1, 180, 256, 256]) torch.Size([1, 1, 256, 256])\n",
      "31 ['b6634e26'] torch.Size([1, 180, 256, 256]) torch.Size([1, 1, 256, 256])\n",
      "32 ['0f709309'] torch.Size([1, 180, 256, 256]) torch.Size([1, 1, 256, 256])\n",
      "33 ['3ec56f19'] torch.Size([1, 180, 256, 256]) torch.Size([1, 1, 256, 256])\n",
      "34 ['3ae4288f'] torch.Size([1, 180, 256, 256]) torch.Size([1, 1, 256, 256])\n",
      "35 ['81a07e36'] torch.Size([1, 180, 256, 256]) torch.Size([1, 1, 256, 256])\n",
      "36 ['cc143994'] torch.Size([1, 180, 256, 256]) torch.Size([1, 1, 256, 256])\n",
      "37 ['dcf1ba16'] torch.Size([1, 180, 256, 256]) torch.Size([1, 1, 256, 256])\n",
      "38 ['c7687b82'] torch.Size([1, 180, 256, 256]) torch.Size([1, 1, 256, 256])\n",
      "39 ['91f7bc39'] torch.Size([1, 180, 256, 256]) torch.Size([1, 1, 256, 256])\n",
      "40 ['c31eb34f'] torch.Size([1, 180, 256, 256]) torch.Size([1, 1, 256, 256])\n",
      "41 ['521e0fe7'] torch.Size([1, 180, 256, 256]) torch.Size([1, 1, 256, 256])\n",
      "42 ['f42af1ea'] torch.Size([1, 180, 256, 256]) torch.Size([1, 1, 256, 256])\n",
      "43 ['c3771d47'] torch.Size([1, 180, 256, 256]) torch.Size([1, 1, 256, 256])\n",
      "44 ['92289d5a'] torch.Size([1, 180, 256, 256]) torch.Size([1, 1, 256, 256])\n",
      "45 ['f74f7080'] torch.Size([1, 180, 256, 256]) torch.Size([1, 1, 256, 256])\n",
      "46 ['10b290d1'] torch.Size([1, 180, 256, 256]) torch.Size([1, 1, 256, 256])\n",
      "47 ['611cfadd'] torch.Size([1, 180, 256, 256]) torch.Size([1, 1, 256, 256])\n",
      "48 ['46f4332d'] torch.Size([1, 180, 256, 256]) torch.Size([1, 1, 256, 256])\n",
      "49 ['f90477a3'] torch.Size([1, 180, 256, 256]) torch.Size([1, 1, 256, 256])\n",
      "50 ['a3107eee'] torch.Size([1, 180, 256, 256]) torch.Size([1, 1, 256, 256])\n",
      "51 ['a424591f'] torch.Size([1, 180, 256, 256]) torch.Size([1, 1, 256, 256])\n",
      "52 ['f8c53b5b'] torch.Size([1, 180, 256, 256]) torch.Size([1, 1, 256, 256])\n",
      "53 ['3ee0afc1'] torch.Size([1, 180, 256, 256]) torch.Size([1, 1, 256, 256])\n",
      "54 ['94457060'] torch.Size([1, 180, 256, 256]) torch.Size([1, 1, 256, 256])\n",
      "55 ['ba3e1964'] torch.Size([1, 180, 256, 256]) torch.Size([1, 1, 256, 256])\n",
      "56 ['07741cb0'] torch.Size([1, 180, 256, 256]) torch.Size([1, 1, 256, 256])\n",
      "57 ['b5cdf9c5'] torch.Size([1, 180, 256, 256]) torch.Size([1, 1, 256, 256])\n",
      "58 ['a9f6710d'] torch.Size([1, 180, 256, 256]) torch.Size([1, 1, 256, 256])\n",
      "59 ['8c05ab2c'] torch.Size([1, 180, 256, 256]) torch.Size([1, 1, 256, 256])\n",
      "60 ['784f852c'] torch.Size([1, 180, 256, 256]) torch.Size([1, 1, 256, 256])\n",
      "61 ['f9247436'] torch.Size([1, 180, 256, 256]) torch.Size([1, 1, 256, 256])\n",
      "62 ['7e15125d'] torch.Size([1, 180, 256, 256]) torch.Size([1, 1, 256, 256])\n",
      "63 ['d5d2b90d'] torch.Size([1, 180, 256, 256]) torch.Size([1, 1, 256, 256])\n",
      "64 ['706c5059'] torch.Size([1, 180, 256, 256]) torch.Size([1, 1, 256, 256])\n",
      "65 ['ebe34a7f'] torch.Size([1, 180, 256, 256]) torch.Size([1, 1, 256, 256])\n",
      "66 ['a2b204a1'] torch.Size([1, 180, 256, 256]) torch.Size([1, 1, 256, 256])\n",
      "67 ['1541fb61'] torch.Size([1, 180, 256, 256]) torch.Size([1, 1, 256, 256])\n",
      "68 ['dc7410db'] torch.Size([1, 180, 256, 256]) torch.Size([1, 1, 256, 256])\n",
      "69 ['2e24b6aa'] torch.Size([1, 180, 256, 256]) torch.Size([1, 1, 256, 256])\n",
      "70 ['d6052510'] torch.Size([1, 180, 256, 256]) torch.Size([1, 1, 256, 256])\n",
      "71 ['cf4c2c78'] torch.Size([1, 180, 256, 256]) torch.Size([1, 1, 256, 256])\n",
      "72 ['2a131d16'] torch.Size([1, 180, 256, 256]) torch.Size([1, 1, 256, 256])\n",
      "73 ['91e350b3'] torch.Size([1, 180, 256, 256]) torch.Size([1, 1, 256, 256])\n",
      "74 ['04b380c7'] torch.Size([1, 180, 256, 256]) torch.Size([1, 1, 256, 256])\n",
      "75 ['c4b07d8c'] torch.Size([1, 180, 256, 256]) torch.Size([1, 1, 256, 256])\n",
      "76 ['5af51ce0'] torch.Size([1, 180, 256, 256]) torch.Size([1, 1, 256, 256])\n",
      "77 ['7b484c9b'] torch.Size([1, 180, 256, 256]) torch.Size([1, 1, 256, 256])\n",
      "78 ['23af9716'] torch.Size([1, 180, 256, 256]) torch.Size([1, 1, 256, 256])\n",
      "79 ['42587bf5'] torch.Size([1, 180, 256, 256]) torch.Size([1, 1, 256, 256])\n",
      "80 ['5bb97720'] torch.Size([1, 180, 256, 256]) torch.Size([1, 1, 256, 256])\n",
      "81 ['64dbcf81'] torch.Size([1, 180, 256, 256]) torch.Size([1, 1, 256, 256])\n",
      "82 ['8f078588'] torch.Size([1, 180, 256, 256]) torch.Size([1, 1, 256, 256])\n",
      "83 ['6d9e57ee'] torch.Size([1, 180, 256, 256]) torch.Size([1, 1, 256, 256])\n",
      "84 ['085fcb0f'] torch.Size([1, 180, 256, 256]) torch.Size([1, 1, 256, 256])\n",
      "85 ['2f4133ad'] torch.Size([1, 180, 256, 256]) torch.Size([1, 1, 256, 256])\n",
      "86 ['31cb93d6'] torch.Size([1, 180, 256, 256]) torch.Size([1, 1, 256, 256])\n",
      "87 ['88f53e9b'] torch.Size([1, 180, 256, 256]) torch.Size([1, 1, 256, 256])\n",
      "88 ['445e22c2'] torch.Size([1, 180, 256, 256]) torch.Size([1, 1, 256, 256])\n",
      "89 ['d949bd7b'] torch.Size([1, 180, 256, 256]) torch.Size([1, 1, 256, 256])\n",
      "90 ['4225f957'] torch.Size([1, 180, 256, 256]) torch.Size([1, 1, 256, 256])\n",
      "91 ['fd58ad41'] torch.Size([1, 180, 256, 256]) torch.Size([1, 1, 256, 256])\n",
      "92 ['0c9d78ab'] torch.Size([1, 180, 256, 256]) torch.Size([1, 1, 256, 256])\n",
      "93 ['38118e4f'] torch.Size([1, 180, 256, 256]) torch.Size([1, 1, 256, 256])\n",
      "94 ['19ca3adf'] torch.Size([1, 180, 256, 256]) torch.Size([1, 1, 256, 256])\n",
      "95 ['372145f4'] torch.Size([1, 180, 256, 256]) torch.Size([1, 1, 256, 256])\n",
      "96 ['3684b245'] torch.Size([1, 180, 256, 256]) torch.Size([1, 1, 256, 256])\n",
      "97 ['1990d8e4'] torch.Size([1, 180, 256, 256]) torch.Size([1, 1, 256, 256])\n",
      "98 ['b81178b5'] torch.Size([1, 180, 256, 256]) torch.Size([1, 1, 256, 256])\n",
      "99 ['c5fbf994'] torch.Size([1, 180, 256, 256]) torch.Size([1, 1, 256, 256])\n"
     ]
    }
   ],
   "source": [
    "for i, data in enumerate(dataloader):\n",
    "    print(i, data['chip_id'], data['A'].shape, data['B'].shape)"
   ]
  },
  {
   "cell_type": "code",
   "execution_count": 26,
   "metadata": {},
   "outputs": [
    {
     "name": "stdout",
     "output_type": "stream",
     "text": [
      "/Users/loaner/projects/dd-biomassters\n"
     ]
    }
   ],
   "source": [
    "%cd /Users/loaner/projects/dd-biomassters"
   ]
  },
  {
   "cell_type": "markdown",
   "metadata": {},
   "source": [
    "## Test via command line interface"
   ]
  },
  {
   "cell_type": "code",
   "execution_count": 29,
   "metadata": {},
   "outputs": [
    {
     "name": "stdout",
     "output_type": "stream",
     "text": [
      "Warning: wandb package cannot be found. The option \"--use_wandb\" will result in error.\n",
      "Warning: wandb package cannot be found. The option \"--use_wandb\" will result in error.\n",
      "----------------- Options ---------------\n",
      "             aspect_ratio: 1.0                           \n",
      "               batch_size: 1                             \n",
      "          checkpoints_dir: ./checkpoints                 \n",
      "                crop_size: 256                           \n",
      "                 dataroot: ./data                        \t[default: data]\n",
      "             dataset_mode: biomassters                   \t[default: aligned]\n",
      "                direction: AtoB                          \n",
      "          display_winsize: 256                           \n",
      "                    epoch: latest                        \n",
      "                     eval: False                         \n",
      "                  gpu_ids: -1                            \t[default: 0]\n",
      "                init_gain: 0.02                          \n",
      "                init_type: normal                        \n",
      "                 input_nc: 180                           \t[default: 3]\n",
      "                  isTrain: False                         \t[default: None]\n",
      "                load_iter: 0                             \t[default: 0]\n",
      "                load_size: 256                           \n",
      "         max_dataset_size: 10                            \t[default: inf]\n",
      "                    model: pix2pix                       \t[default: test]\n",
      "               n_layers_D: 3                             \n",
      "                     name: biomassters                   \t[default: experiment_name]\n",
      "                      ndf: 64                            \n",
      "                     netD: basic                         \n",
      "                     netG: unet_256                      \n",
      "                      ngf: 64                            \n",
      "               no_dropout: True                          \t[default: False]\n",
      "                  no_flip: False                         \n",
      "                     norm: batch                         \n",
      "                 num_test: 50                            \n",
      "              num_threads: 4                             \n",
      "                output_nc: 3                             \n",
      "                    phase: validation                    \t[default: test]\n",
      "               preprocess:                               \t[default: resize_and_crop]\n",
      "              results_dir: ./results/                    \n",
      "           serial_batches: False                         \n",
      "                   suffix:                               \n",
      "                use_wandb: False                         \n",
      "                  verbose: False                         \n",
      "       wandb_project_name: CycleGAN-and-pix2pix          \n",
      "----------------- End -------------------\n",
      "dataset [BioMasstersDataset] was created\n",
      "initialize network with normal\n",
      "model [Pix2PixModel] was created\n",
      "---------- Networks initialized -------------\n",
      "[Network G] Total number of parameters : 54.595 M\n",
      "-----------------------------------------------\n",
      "creating web directory ./results/biomassters/validation_latest\n",
      "processing (0000)-th image... ['A_269e7e9b']\n",
      "processing (0005)-th image... ['A_7cc3b4b6']\n"
     ]
    }
   ],
   "source": [
    "!python ./pix2pix/test.py --dataroot ./data --name biomassters --model pix2pix --direction AtoB --input_nc 180 \\\n",
    "    --dataset_mode biomassters --gpu_ids -1 --results_dir ./results/ --phase validation \\\n",
    "    --max_dataset_size 10 --preprocess \"\" --no_dropout\n"
   ]
  },
  {
   "cell_type": "markdown",
   "metadata": {},
   "source": [
    "## Train dev"
   ]
  },
  {
   "cell_type": "code",
   "execution_count": 5,
   "metadata": {},
   "outputs": [
    {
     "name": "stdout",
     "output_type": "stream",
     "text": [
      "Warning: wandb package cannot be found. The option \"--use_wandb\" will result in error.\n",
      "----------------- Options ---------------\n",
      "               batch_size: 1                             \n",
      "                    beta1: 0.5                           \n",
      "          checkpoints_dir: ./checkpoints                 \n",
      "           continue_train: False                         \n",
      "                crop_size: 256                           \n",
      "                 dataroot: ./data                        \t[default: data]\n",
      "             dataset_mode: biomassters                   \t[default: aligned]\n",
      "                direction: AtoB                          \n",
      "              display_env: main                          \n",
      "             display_freq: 5                             \t[default: 400]\n",
      "               display_id: 1                             \n",
      "            display_ncols: 4                             \n",
      "             display_port: 8097                          \n",
      "           display_server: http://localhost              \n",
      "          display_winsize: 256                           \n",
      "                    epoch: latest                        \n",
      "              epoch_count: 1                             \n",
      "                 gan_mode: vanilla                       \n",
      "                  gpu_ids: -1                            \t[default: 0]\n",
      "                init_gain: 0.02                          \n",
      "                init_type: normal                        \n",
      "                 input_nc: 180                           \t[default: 3]\n",
      "                  isTrain: True                          \t[default: None]\n",
      "                lambda_L1: 100.0                         \n",
      "                load_iter: 0                             \t[default: 0]\n",
      "                load_size: 286                           \n",
      "                       lr: 0.0002                        \n",
      "           lr_decay_iters: 50                            \n",
      "                lr_policy: linear                        \n",
      "         max_dataset_size: 5                             \t[default: inf]\n",
      "                    model: pix2pix                       \t[default: cycle_gan]\n",
      "                 n_epochs: 10                            \t[default: 100]\n",
      "           n_epochs_decay: 100                           \n",
      "               n_layers_D: 3                             \n",
      "                     name: biomassters                   \t[default: experiment_name]\n",
      "                      ndf: 64                            \n",
      "                     netD: basic                         \n",
      "                     netG: unet_256                      \n",
      "                      ngf: 64                            \n",
      "               no_dropout: False                         \n",
      "                  no_flip: False                         \n",
      "                  no_html: False                         \n",
      "                     norm: batch                         \n",
      "              num_threads: 4                             \n",
      "                output_nc: 1                             \t[default: 3]\n",
      "                    phase: train                         \n",
      "                pool_size: 0                             \n",
      "               preprocess:                               \t[default: resize_and_crop]\n",
      "               print_freq: 5                             \t[default: 100]\n",
      "             save_by_iter: False                         \n",
      "          save_epoch_freq: 5                             \n",
      "         save_latest_freq: 5000                          \n",
      "           serial_batches: False                         \n",
      "                   suffix:                               \n",
      "         update_html_freq: 1000                          \n",
      "                use_wandb: False                         \n",
      "                  verbose: False                         \n",
      "       wandb_project_name: CycleGAN-and-pix2pix          \n",
      "----------------- End -------------------\n",
      "    chip_id\n",
      "0  1a1f591d\n",
      "1  5521a4ea\n",
      "2  b910d1a7\n",
      "3  eee3ce3a\n",
      "4  49abd286\n",
      "dataset [BioMasstersDataset] was created\n",
      "The number of training images = 5\n",
      "initialize network with normal\n",
      "initialize network with normal\n",
      "model [Pix2PixModel] was created\n",
      "---------- Networks initialized -------------\n",
      "[Network G] Total number of parameters : 54.591 M\n",
      "[Network D] Total number of parameters : 2.948 M\n",
      "-----------------------------------------------\n",
      "Setting up a new session...\n",
      "create web directory ./checkpoints/biomassters/web...\n",
      "/Users/loaner/.pyenv/versions/3.8.15/lib/python3.8/site-packages/torch/optim/lr_scheduler.py:138: UserWarning: Detected call of `lr_scheduler.step()` before `optimizer.step()`. In PyTorch 1.1.0 and later, you should call them in the opposite order: `optimizer.step()` before `lr_scheduler.step()`.  Failure to do this will result in PyTorch skipping the first value of the learning rate schedule. See more details at https://pytorch.org/docs/stable/optim.html#how-to-adjust-learning-rate\n",
      "  warnings.warn(\"Detected call of `lr_scheduler.step()` before `optimizer.step()`. \"\n",
      "learning rate 0.0002000 -> 0.0002000\n",
      "Warning: wandb package cannot be found. The option \"--use_wandb\" will result in error.\n",
      "Warning: wandb package cannot be found. The option \"--use_wandb\" will result in error.\n",
      "Warning: wandb package cannot be found. The option \"--use_wandb\" will result in error.\n",
      "Warning: wandb package cannot be found. The option \"--use_wandb\" will result in error.\n",
      "/Users/loaner/projects/dd-biomassters/pix2pix/util/util.py:26: RuntimeWarning: divide by zero encountered in divide\n",
      "  im = im*255/im.max()\n",
      "/Users/loaner/projects/dd-biomassters/pix2pix/util/util.py:26: RuntimeWarning: invalid value encountered in divide\n",
      "  im = im*255/im.max()\n",
      "(epoch: 1, iters: 5, time: 2.510, data: 9.606) G_GAN: 1.008 G_L1: 6261.016 D_real: 1.087 D_fake: 0.962 \n",
      "End of epoch 1 / 110 \t Time Taken: 42 sec\n",
      "learning rate 0.0002000 -> 0.0002000\n",
      "Warning: wandb package cannot be found. The option \"--use_wandb\" will result in error.\n",
      "Warning: wandb package cannot be found. The option \"--use_wandb\" will result in error.\n",
      "Warning: wandb package cannot be found. The option \"--use_wandb\" will result in error.\n",
      "Warning: wandb package cannot be found. The option \"--use_wandb\" will result in error.\n",
      "(epoch: 2, iters: 5, time: 2.425, data: 9.357) G_GAN: 0.813 G_L1: 4741.787 D_real: 0.956 D_fake: 1.104 \n",
      "End of epoch 2 / 110 \t Time Taken: 41 sec\n",
      "learning rate 0.0002000 -> 0.0002000\n",
      "Warning: wandb package cannot be found. The option \"--use_wandb\" will result in error.\n",
      "Warning: wandb package cannot be found. The option \"--use_wandb\" will result in error.\n",
      "Warning: wandb package cannot be found. The option \"--use_wandb\" will result in error.\n",
      "Warning: wandb package cannot be found. The option \"--use_wandb\" will result in error.\n",
      "(epoch: 3, iters: 5, time: 2.985, data: 10.541) G_GAN: 0.801 G_L1: 6261.013 D_real: 0.821 D_fake: 0.897 \n",
      "End of epoch 3 / 110 \t Time Taken: 45 sec\n",
      "learning rate 0.0002000 -> 0.0002000\n",
      "Warning: wandb package cannot be found. The option \"--use_wandb\" will result in error.\n",
      "Warning: wandb package cannot be found. The option \"--use_wandb\" will result in error.\n",
      "Warning: wandb package cannot be found. The option \"--use_wandb\" will result in error.\n",
      "Warning: wandb package cannot be found. The option \"--use_wandb\" will result in error.\n",
      "(epoch: 4, iters: 5, time: 2.838, data: 11.721) G_GAN: 1.010 G_L1: 8747.055 D_real: 1.078 D_fake: 1.018 \n",
      "End of epoch 4 / 110 \t Time Taken: 46 sec\n",
      "learning rate 0.0002000 -> 0.0002000\n",
      "(epoch: 5, iters: 5, time: 2.655, data: 10.463) G_GAN: 0.824 G_L1: 8746.905 D_real: 0.796 D_fake: 0.759 \n",
      "saving the model at the end of epoch 5, iters 25\n",
      "End of epoch 5 / 110 \t Time Taken: 44 sec\n",
      "learning rate 0.0002000 -> 0.0002000\n",
      "(epoch: 6, iters: 5, time: 2.539, data: 12.279) G_GAN: 0.735 G_L1: 4740.514 D_real: 0.785 D_fake: 0.753 \n",
      "^C\n",
      "Traceback (most recent call last):\n",
      "  File \"./pix2pix/train.py\", line 44, in <module>\n",
      "    for i, data in enumerate(dataset):  # inner loop within one epoch\n",
      "  File \"/Users/loaner/projects/dd-biomassters/pix2pix/data/__init__.py\", line 92, in __iter__\n",
      "    for i, data in enumerate(self.dataloader):\n",
      "  File \"/Users/loaner/.pyenv/versions/3.8.15/lib/python3.8/site-packages/torch/utils/data/dataloader.py\", line 628, in __next__\n",
      "    data = self._next_data()\n",
      "  File \"/Users/loaner/.pyenv/versions/3.8.15/lib/python3.8/site-packages/torch/utils/data/dataloader.py\", line 1305, in _next_data\n",
      "    self._shutdown_workers()\n",
      "  File \"/Users/loaner/.pyenv/versions/3.8.15/lib/python3.8/site-packages/torch/utils/data/dataloader.py\", line 1430, in _shutdown_workers\n",
      "    w.join(timeout=_utils.MP_STATUS_CHECK_INTERVAL)\n",
      "  File \"/Users/loaner/.pyenv/versions/3.8.15/lib/python3.8/multiprocessing/process.py\", line 149, in join\n",
      "    res = self._popen.wait(timeout)\n",
      "  File \"/Users/loaner/.pyenv/versions/3.8.15/lib/python3.8/multiprocessing/popen_fork.py\", line 44, in wait\n",
      "    if not wait([self.sentinel], timeout):\n",
      "  File \"/Users/loaner/.pyenv/versions/3.8.15/lib/python3.8/multiprocessing/connection.py\", line 931, in wait\n",
      "    ready = selector.select(timeout)\n",
      "  File \"/Users/loaner/.pyenv/versions/3.8.15/lib/python3.8/selectors.py\", line 415, in select\n",
      "    fd_event_list = self._selector.poll(timeout)\n",
      "KeyboardInterrupt\n"
     ]
    }
   ],
   "source": [
    "!python ./pix2pix/train.py --dataroot ./data --name biomassters --model pix2pix --direction AtoB \\\n",
    "    --input_nc 180 --output_nc 1 --dataset_mode biomassters --gpu_ids -1 --phase train \\\n",
    "    --max_dataset_size 5 --preprocess \"\" \\\n",
    "    --n_epochs 10 --n_epochs_decay 10 \\\n",
    "    --display_id 1 --display_freq 5 --print_freq 5\n",
    "# --num_threads 1 \\"
   ]
  },
  {
   "cell_type": "code",
   "execution_count": 42,
   "metadata": {},
   "outputs": [
    {
     "name": "stdout",
     "output_type": "stream",
     "text": [
      "Warning: wandb package cannot be found. The option \"--use_wandb\" will result in error.\n",
      "Warning: wandb package cannot be found. The option \"--use_wandb\" will result in error.\n",
      "----------------- Options ---------------\n",
      "             aspect_ratio: 1.0                           \n",
      "               batch_size: 1                             \n",
      "          checkpoints_dir: ./checkpoints                 \n",
      "                crop_size: 256                           \n",
      "                 dataroot: ./data                        \t[default: data]\n",
      "             dataset_mode: biomassters                   \t[default: aligned]\n",
      "                direction: AtoB                          \n",
      "          display_winsize: 256                           \n",
      "                    epoch: latest                        \n",
      "                     eval: False                         \n",
      "                  gpu_ids: -1                            \t[default: 0]\n",
      "                init_gain: 0.02                          \n",
      "                init_type: normal                        \n",
      "                 input_nc: 180                           \t[default: 3]\n",
      "                  isTrain: False                         \t[default: None]\n",
      "                load_iter: 0                             \t[default: 0]\n",
      "                load_size: 256                           \n",
      "         max_dataset_size: 10                            \t[default: inf]\n",
      "                    model: pix2pix                       \t[default: test]\n",
      "               n_layers_D: 3                             \n",
      "                     name: biomassters                   \t[default: experiment_name]\n",
      "                      ndf: 64                            \n",
      "                     netD: basic                         \n",
      "                     netG: unet_256                      \n",
      "                      ngf: 64                            \n",
      "               no_dropout: True                          \t[default: False]\n",
      "                  no_flip: False                         \n",
      "                     norm: batch                         \n",
      "                 num_test: 50                            \n",
      "              num_threads: 4                             \n",
      "                output_nc: 1                             \t[default: 3]\n",
      "                    phase: train                         \t[default: test]\n",
      "               preprocess:                               \t[default: resize_and_crop]\n",
      "              results_dir: ./results/                    \n",
      "           serial_batches: False                         \n",
      "                   suffix:                               \n",
      "                use_wandb: False                         \n",
      "                  verbose: False                         \n",
      "       wandb_project_name: CycleGAN-and-pix2pix          \n",
      "----------------- End -------------------\n",
      "    chip_id\n",
      "0  1a1f591d\n",
      "1  5521a4ea\n",
      "2  b910d1a7\n",
      "3  eee3ce3a\n",
      "4  49abd286\n",
      "5  187cf18b\n",
      "6  243bad58\n",
      "7  8baffdbd\n",
      "8  138bc232\n",
      "9  2003e1cb\n",
      "dataset [BioMasstersDataset] was created\n",
      "initialize network with normal\n",
      "model [Pix2PixModel] was created\n",
      "loading the model from ./checkpoints/biomassters/latest_net_G.pth\n",
      "---------- Networks initialized -------------\n",
      "[Network G] Total number of parameters : 54.591 M\n",
      "-----------------------------------------------\n",
      "creating web directory ./results/biomassters/train_latest\n",
      "processing (0000)-th image... ['A_1a1f591d']\n",
      "0 ['A_1a1f591d'] tensor(90.3277)\n",
      "1 ['A_5521a4ea'] tensor(37.6933)\n",
      "2 ['A_b910d1a7'] tensor(84.3536)\n",
      "3 ['A_eee3ce3a'] tensor(89.4443)\n",
      "4 ['A_49abd286'] tensor(116.5501)\n",
      "processing (0005)-th image... ['A_187cf18b']\n",
      "5 ['A_187cf18b'] tensor(63.7498)\n",
      "6 ['A_243bad58'] tensor(90.0869)\n",
      "7 ['A_8baffdbd'] tensor(102.9345)\n",
      "8 ['A_138bc232'] tensor(48.5506)\n",
      "9 ['A_2003e1cb'] tensor(130.2200)\n"
     ]
    }
   ],
   "source": [
    "!python ./pix2pix/test.py --dataroot ./data --name biomassters --model pix2pix --direction AtoB \\\n",
    "    --input_nc 180 --output_nc 1 --dataset_mode biomassters --gpu_ids -1 --phase train \\\n",
    "    --max_dataset_size 5 --preprocess \"\" \\\n",
    "    --no_dropout --results_dir ./results/ "
   ]
  },
  {
   "cell_type": "code",
   "execution_count": null,
   "metadata": {},
   "outputs": [],
   "source": []
  }
 ],
 "metadata": {
  "kernelspec": {
   "display_name": ".env",
   "language": "python",
   "name": ".env"
  },
  "language_info": {
   "codemirror_mode": {
    "name": "ipython",
    "version": 3
   },
   "file_extension": ".py",
   "mimetype": "text/x-python",
   "name": "python",
   "nbconvert_exporter": "python",
   "pygments_lexer": "ipython3",
   "version": "3.8.15"
  }
 },
 "nbformat": 4,
 "nbformat_minor": 2
}
